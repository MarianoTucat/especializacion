{
 "cells": [
  {
   "cell_type": "markdown",
   "id": "ce6e2b24-c9d4-4ed2-87cf-a4256415a22d",
   "metadata": {},
   "source": [
    "# Ejercicios Iniciales\n",
    "\n",
    "Elegir algun archivo de la carpeta datasets (books o simpsons)\n",
    "\n",
    "- Crear una tabla con clave primaria que tenga únicamente clave de partición\n",
    "- Agregar todos elementos a la tabla que incluyan todos los tipos soportados por dynamo\n",
    "- Incrementar el valor de algún campo numerico de uno de los elementos\n",
    "- Verificar que el valor se actualizó\n",
    "- Recuperar todos los elementos de la tabla\n"
   ]
  },
  {
   "cell_type": "code",
   "execution_count": null,
   "id": "bf456f19-4308-4ece-8cf7-3393581074c6",
   "metadata": {},
   "outputs": [],
   "source": []
  }
 ],
 "metadata": {
  "kernelspec": {
   "display_name": "Python 3 (ipykernel)",
   "language": "python",
   "name": "python3"
  },
  "language_info": {
   "codemirror_mode": {
    "name": "ipython",
    "version": 3
   },
   "file_extension": ".py",
   "mimetype": "text/x-python",
   "name": "python",
   "nbconvert_exporter": "python",
   "pygments_lexer": "ipython3",
   "version": "3.10.6"
  }
 },
 "nbformat": 4,
 "nbformat_minor": 5
}
