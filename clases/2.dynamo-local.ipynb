{
 "cells": [
  {
   "cell_type": "markdown",
   "id": "de3cd146-9e9e-4be2-a194-570a936d5a05",
   "metadata": {},
   "source": [
    "# Instalación del AWS SDK para Python\n",
    "\n",
    "Primero que nada, instalamos boto3, el SDK para Python de AWS"
   ]
  },
  {
   "cell_type": "code",
   "execution_count": null,
   "id": "0afda5a6-7052-4e1b-b85e-2fec1e178dd6",
   "metadata": {
    "tags": []
   },
   "outputs": [],
   "source": [
    "import os\n",
    "\n",
    "os.system(f\"pip install boto3\")"
   ]
  },
  {
   "cell_type": "markdown",
   "id": "cde44e79-6441-4ffd-8c1e-c93f90ffaa70",
   "metadata": {},
   "source": [
    "# Conectamos con dynamo\n",
    "\n",
    "Luego conectamos con la instancia de dynamo que querramos usar"
   ]
  },
  {
   "cell_type": "code",
   "execution_count": null,
   "id": "3a3f188f-39bd-41d6-9ca2-eb8e5cf06f6e",
   "metadata": {},
   "outputs": [],
   "source": [
    "from __future__ import print_function # Python 2/3 compatibility\n",
    "import boto3, pprint\n",
    "\n",
    "dynamodb = boto3.resource('dynamodb', endpoint_url=\"http://172.21.0.5:8000\", \n",
    "                          aws_access_key_id=\"<aws_access_key_id>\", aws_secret_access_key= \"<aws_secret_access_key>\", \n",
    "                          region_name='us-west-2')\n",
    "pprint.pprint(dynamodb)"
   ]
  },
  {
   "cell_type": "markdown",
   "id": "840891d9-f465-4c6b-b416-29a6b502e7f1",
   "metadata": {},
   "source": [
    "# Tablas\n",
    "\n",
    "Verificamos si existen tablas actualmente"
   ]
  },
  {
   "cell_type": "code",
   "execution_count": null,
   "id": "5a547bb5-f1e7-4586-8182-328dea621a67",
   "metadata": {},
   "outputs": [],
   "source": [
    "response = dynamodb.meta.client.list_tables()\n",
    "\n",
    "pprint.pprint(response)"
   ]
  },
  {
   "cell_type": "markdown",
   "id": "494621f6-9b35-407e-ad85-645d76ac9a90",
   "metadata": {},
   "source": [
    "# Creación de Tablas\n",
    "\n",
    "Creamos una tabla sencilla, con los parámetros básicos"
   ]
  },
  {
   "cell_type": "code",
   "execution_count": null,
   "id": "aecfb395-dcaf-4486-9a31-41096de89126",
   "metadata": {},
   "outputs": [],
   "source": [
    "table = dynamodb.create_table(\n",
    "    TableName=\"Movies\", \n",
    "    BillingMode=\"PROVISIONED\",\n",
    "    KeySchema=[\n",
    "        {'AttributeName': 'Year', 'KeyType': 'HASH'},  # Partition key\n",
    "        {'AttributeName': 'Title', 'KeyType': 'RANGE'}  # Sort key\n",
    "    ],\n",
    "    AttributeDefinitions=[\n",
    "        {'AttributeName': 'Year', 'AttributeType': 'S'},\n",
    "        {'AttributeName': 'Title', 'AttributeType': 'S'}\n",
    "    ],\n",
    "    ProvisionedThroughput={'ReadCapacityUnits': 10, 'WriteCapacityUnits': 10})\n",
    "\n",
    "table.meta.client.get_waiter('table_exists').wait(TableName='Movies')\n",
    "print('Table created, please continue to insert data.')"
   ]
  },
  {
   "cell_type": "markdown",
   "id": "6582ed29-787d-4440-93f9-144b48dcf82e",
   "metadata": {},
   "source": [
    "# Inserción\n",
    "\n",
    "Agregamos un elemento a la tabla"
   ]
  },
  {
   "cell_type": "code",
   "execution_count": null,
   "id": "acd81850-a205-43e4-b51a-40801f0cd781",
   "metadata": {},
   "outputs": [],
   "source": [
    "table.put_item(\n",
    "    Item={\n",
    "    \"Title\": \"Avatar\",\n",
    "    \"Year\": \"2009\",\n",
    "    \"Rated\": \"PG-13\",\n",
    "    \"Released\": \"18 Dec 2009\",\n",
    "    \"Runtime\": \"162 min\",\n",
    "    \"Genre\": \"Action, Adventure, Fantasy\",\n",
    "    \"Director\": \"James Cameron\",\n",
    "    \"Writer\": \"James Cameron\",\n",
    "    \"Actors\": \"Sam Worthington, Zoe Saldana, Sigourney Weaver, Stephen Lang\",\n",
    "    \"Plot\": \"A paraplegic marine dispatched to the moon Pandora on a unique mission becomes torn between following his orders and protecting the world he feels is his home.\",\n",
    "    \"Language\": \"English, Spanish\",\n",
    "    \"Country\": \"USA, UK\",\n",
    "    \"Awards\": \"Won 3 Oscars. Another 80 wins & 121 nominations.\",\n",
    "    \"Poster\": \"http://ia.media-imdb.com/images/M/MV5BMTYwOTEwNjAzMl5BMl5BanBnXkFtZTcwODc5MTUwMw@@._V1_SX300.jpg\",\n",
    "    \"Metascore\": \"83\",\n",
    "    \"imdbRating\": \"7.9\",\n",
    "    \"imdbVotes\": \"890,617\",\n",
    "    \"imdbID\": \"tt0499549\",\n",
    "    \"Type\": \"movie\",\n",
    "    \"Response\": \"True\",\n",
    "    \"Images\": [\n",
    "      \"https://images-na.ssl-images-amazon.com/images/M/MV5BMjEyOTYyMzUxNl5BMl5BanBnXkFtZTcwNTg0MTUzNA@@._V1_SX1500_CR0,0,1500,999_AL_.jpg\",\n",
    "      \"https://images-na.ssl-images-amazon.com/images/M/MV5BNzM2MDk3MTcyMV5BMl5BanBnXkFtZTcwNjg0MTUzNA@@._V1_SX1777_CR0,0,1777,999_AL_.jpg\",\n",
    "      \"https://images-na.ssl-images-amazon.com/images/M/MV5BMTY2ODQ3NjMyMl5BMl5BanBnXkFtZTcwODg0MTUzNA@@._V1_SX1777_CR0,0,1777,999_AL_.jpg\",\n",
    "      \"https://images-na.ssl-images-amazon.com/images/M/MV5BMTMxOTEwNDcxN15BMl5BanBnXkFtZTcwOTg0MTUzNA@@._V1_SX1777_CR0,0,1777,999_AL_.jpg\",\n",
    "      \"https://images-na.ssl-images-amazon.com/images/M/MV5BMTYxMDg1Nzk1MV5BMl5BanBnXkFtZTcwMDk0MTUzNA@@._V1_SX1500_CR0,0,1500,999_AL_.jpg\"\n",
    "    ]\n",
    "  })"
   ]
  },
  {
   "cell_type": "markdown",
   "id": "3f65cd2b-4a2a-4b95-9c5e-62068da43881",
   "metadata": {},
   "source": [
    "Agregamos varios mas traidos de un archivo de ejemplo"
   ]
  },
  {
   "cell_type": "code",
   "execution_count": null,
   "id": "25a3ce9a-ae43-423a-9d87-1ccb7404bbd1",
   "metadata": {},
   "outputs": [],
   "source": [
    "from decimal import Decimal\n",
    "import json\n",
    "\n",
    "with open('../datasets/movies.json') as json_file:\n",
    "    data = json.load(json_file, parse_float=Decimal)\n",
    "    for movie in data:\n",
    "        table.put_item(Item=movie)\n",
    "\n",
    "#pprint.pprint(data)\n",
    "pprint.pprint(len(data))"
   ]
  },
  {
   "cell_type": "markdown",
   "id": "74c4f79f-2223-410c-89da-0760e9485ee1",
   "metadata": {},
   "source": [
    "# Obtenemos un elemento\n",
    "\n",
    "Utilizando la clave primaria completa, obtenemos un item"
   ]
  },
  {
   "cell_type": "code",
   "execution_count": null,
   "id": "1908929b-ab74-40af-8b54-97fee273e68b",
   "metadata": {},
   "outputs": [],
   "source": [
    "response = table.get_item(Key={'Year': '2009', 'Title': \"Avatar\"})\n",
    "pprint.pprint(response['Item'])"
   ]
  },
  {
   "cell_type": "markdown",
   "id": "6aaab463-4488-4a14-8d03-96af4c7a8c9e",
   "metadata": {},
   "source": [
    "# Consulta\n",
    "\n",
    "Realizamos una query para traer todos los items de un año en particular"
   ]
  },
  {
   "cell_type": "code",
   "execution_count": null,
   "id": "a6949216-c172-4992-bc91-13c8e2323ac4",
   "metadata": {},
   "outputs": [],
   "source": [
    "from boto3.dynamodb.conditions import Key\n",
    "\n",
    "response = table.query(KeyConditionExpression=Key('Year').eq('2016'))\n",
    "pprint.pprint(response['Items'])"
   ]
  },
  {
   "cell_type": "markdown",
   "id": "eca6c129-669e-457e-a556-74cae0852f6b",
   "metadata": {},
   "source": [
    "# Actualización\n",
    "\n",
    "Modificamos un elemento existente"
   ]
  },
  {
   "cell_type": "code",
   "execution_count": null,
   "id": "a4328382-9ce3-477d-b9a0-b7cdb3c08885",
   "metadata": {},
   "outputs": [],
   "source": [
    "response = table.update_item(\n",
    "                Key={'Year': '2009', 'Title': \"Avatar\"},\n",
    "                UpdateExpression=\"set imdbRating=:i, Runtime=:r\",\n",
    "                ExpressionAttributeValues={\n",
    "                    ':i': \"8.1\", ':r': \"163 min\"},\n",
    "                ReturnValues=\"UPDATED_NEW\")\n",
    "pprint.pprint(response)"
   ]
  },
  {
   "cell_type": "markdown",
   "id": "60380039-56f5-475a-add8-9ff1ad88de74",
   "metadata": {},
   "source": [
    "# Actualización\n",
    "\n",
    "Agregamos un elemento a una lista existente"
   ]
  },
  {
   "cell_type": "code",
   "execution_count": null,
   "id": "4c7a2411-bda2-4dfe-9725-03ebe39369ab",
   "metadata": {},
   "outputs": [],
   "source": [
    "response = table.update_item(\n",
    "                Key={'Year': '2009', 'Title': \"Avatar\"},\n",
    "                UpdateExpression=\"set Images = list_append(Images, :i)\",\n",
    "                ExpressionAttributeValues={\n",
    "                    ':i': [\"http://ia.media-imdb.com/images/M/MV5BMTYwOTEwNjAzMl5BMl5BanBnXkFtZTcwODc5MTUwMw@@._V1_SX300.jpg\"]},\n",
    "                ReturnValues=\"UPDATED_NEW\")\n",
    "pprint.pprint(response)"
   ]
  },
  {
   "cell_type": "markdown",
   "id": "17ce00a0-b6ae-4074-9d92-eadcba146729",
   "metadata": {},
   "source": [
    "# Scan\n",
    "\n",
    "Realizamos un scan para obtener todos los elementos de la tabla"
   ]
  },
  {
   "cell_type": "code",
   "execution_count": null,
   "id": "3c64162b-9d23-40d2-9f3a-bf67b8630dd4",
   "metadata": {},
   "outputs": [],
   "source": [
    "response = table.scan()\n",
    "print(\"Items Returned: {}\".format(len(response['Items'])))\n",
    "#pprint.pprint(response)"
   ]
  },
  {
   "cell_type": "markdown",
   "id": "22c5ee36-ddf2-4e4b-bc40-0ecd6a910797",
   "metadata": {},
   "source": [
    "# Borramos la tabla\n",
    "\n",
    "Finalmente, eliminamos la tabla"
   ]
  },
  {
   "cell_type": "code",
   "execution_count": null,
   "id": "62381e80-118e-494a-89f6-1d771053fcd5",
   "metadata": {},
   "outputs": [],
   "source": [
    "table.delete()\n",
    "\n",
    "print(f\"Deleting {table.name}...\")\n",
    "table.wait_until_not_exists()\n",
    "\n",
    "print('Table deleted.')"
   ]
  }
 ],
 "metadata": {
  "kernelspec": {
   "display_name": "Python 3 (ipykernel)",
   "language": "python",
   "name": "python3"
  },
  "language_info": {
   "codemirror_mode": {
    "name": "ipython",
    "version": 3
   },
   "file_extension": ".py",
   "mimetype": "text/x-python",
   "name": "python",
   "nbconvert_exporter": "python",
   "pygments_lexer": "ipython3",
   "version": "3.10.6"
  }
 },
 "nbformat": 4,
 "nbformat_minor": 5
}
