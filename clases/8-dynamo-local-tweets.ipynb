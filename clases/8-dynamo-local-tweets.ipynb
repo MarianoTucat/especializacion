{
 "cells": [
  {
   "cell_type": "markdown",
   "id": "099ea0f4-e680-4ca2-9bd5-c4f3819ebf35",
   "metadata": {},
   "source": [
    "# Instalación del AWS SDK para Python\n",
    "\n",
    "Primero que nada, instalamos boto3, el SDK para Python de AWS"
   ]
  },
  {
   "cell_type": "code",
   "execution_count": null,
   "id": "0afda5a6-7052-4e1b-b85e-2fec1e178dd6",
   "metadata": {
    "tags": []
   },
   "outputs": [],
   "source": [
    "import os\n",
    "\n",
    "requisite='boto3'\n",
    "os.system(f\"pip install {requisite}\")"
   ]
  },
  {
   "cell_type": "markdown",
   "id": "e6c65ec2-5f2f-49a1-b956-1fe43fc73d80",
   "metadata": {},
   "source": [
    "Inicio Dynamo"
   ]
  },
  {
   "cell_type": "code",
   "execution_count": null,
   "id": "3a3f188f-39bd-41d6-9ca2-eb8e5cf06f6e",
   "metadata": {},
   "outputs": [],
   "source": [
    "from __future__ import print_function # Python 2/3 compatibility\n",
    "import boto3, pprint\n",
    "\n",
    "dynamodb = boto3.resource('dynamodb', endpoint_url=\"http://172.21.0.5:8000\", \n",
    "                          aws_access_key_id=\"<aws_access_key_id>\", aws_secret_access_key= \"<aws_secret_access_key>\", \n",
    "                          region_name='us-west-2')\n"
   ]
  },
  {
   "cell_type": "markdown",
   "id": "d5e4dceb-27f6-43ff-997a-c7f857048990",
   "metadata": {},
   "source": [
    "listo las tablas"
   ]
  },
  {
   "cell_type": "code",
   "execution_count": null,
   "id": "5a547bb5-f1e7-4586-8182-328dea621a67",
   "metadata": {},
   "outputs": [],
   "source": [
    "response = dynamodb.meta.client.list_tables()\n",
    "\n",
    "pprint.pprint(response)"
   ]
  },
  {
   "cell_type": "markdown",
   "id": "e0817298-a5f2-4451-9285-23b75b3bab8c",
   "metadata": {},
   "source": [
    "creo la tabla de tweets"
   ]
  },
  {
   "cell_type": "code",
   "execution_count": null,
   "id": "aecfb395-dcaf-4486-9a31-41096de89126",
   "metadata": {},
   "outputs": [],
   "source": [
    "table = dynamodb.create_table(\n",
    "    TableName=\"Tweets\", # Substitute your table name for RetailDatabase\n",
    "    BillingMode=\"PROVISIONED\",\n",
    "    KeySchema=[\n",
    "        {\n",
    "            'AttributeName': 'id_str',\n",
    "            'KeyType': 'HASH'  #Partition key\n",
    "        },\n",
    "        {\n",
    "            'AttributeName': 'timestamp_ms',\n",
    "            'KeyType': 'RANGE'  #Sort key\n",
    "        }\n",
    "    ],\n",
    "    AttributeDefinitions=[\n",
    "        {\n",
    "            'AttributeName': 'id_str',\n",
    "            'AttributeType': 'S'\n",
    "        },\n",
    "        {\n",
    "            'AttributeName': 'timestamp_ms',\n",
    "            'AttributeType': 'S'\n",
    "        }\n",
    "    ],\n",
    "        ProvisionedThroughput={\n",
    "            'ReadCapacityUnits': 10,\n",
    "            'WriteCapacityUnits': 10\n",
    "        },\n",
    ")\n",
    "\n",
    "table.meta.client.get_waiter('table_exists').wait(TableName='Tweets')\n",
    "print('Table created, please continue to insert data.')"
   ]
  },
  {
   "cell_type": "markdown",
   "id": "c6599e43-06ab-4966-b0cb-9f91432833bc",
   "metadata": {},
   "source": [
    "instalo el plugin para leer el archivo de jsons separado por nd"
   ]
  },
  {
   "cell_type": "code",
   "execution_count": null,
   "id": "f168262e-a053-43d2-a310-4e93fdf6bb9e",
   "metadata": {},
   "outputs": [],
   "source": [
    "!pip install ndjson"
   ]
  },
  {
   "cell_type": "markdown",
   "id": "f0148200-90cf-474e-8f35-10f52f0cfe23",
   "metadata": {},
   "source": [
    "agrego los tweets"
   ]
  },
  {
   "cell_type": "code",
   "execution_count": null,
   "id": "098c5546-644c-4e81-8fca-22f4ab09171a",
   "metadata": {},
   "outputs": [],
   "source": [
    "import ndjson, json\n",
    "from decimal import Decimal\n",
    "\n",
    "count = 0\n",
    "ids = set()\n",
    "with table.batch_writer() as writer:\n",
    "    with open('../datasets/twitter.ndjson') as f:\n",
    "        reader = ndjson.reader(f)\n",
    "\n",
    "        for post in reader:\n",
    "            if \"index\" in post:\n",
    "                pass\n",
    "            else:\n",
    "                id = post[\"id_str\"]\n",
    "                if id in ids:\n",
    "                    print(\"duplicate id\")\n",
    "                    pass\n",
    "                else:\n",
    "                    ids.add(id)\n",
    "                    count+=1\n",
    "                    item = json.loads(json.dumps(post), parse_float=Decimal)\n",
    "                    writer.put_item(Item=item)\n",
    "                    if count%100==0:\n",
    "                        print(\"Added: {}\".format(count))\n",
    "\n",
    "print(count)"
   ]
  },
  {
   "cell_type": "markdown",
   "id": "793043b5-2bf6-4710-8e7c-a7160496d8f0",
   "metadata": {},
   "source": [
    "leo los tweets"
   ]
  },
  {
   "cell_type": "code",
   "execution_count": null,
   "id": "3c64162b-9d23-40d2-9f3a-bf67b8630dd4",
   "metadata": {},
   "outputs": [],
   "source": [
    "count=0\n",
    "response = table.scan()\n",
    "print(\"Items Returned: {}\".format(len(response['Items'])))\n",
    "count+=len(response['Items'])\n",
    "while 'LastEvaluatedKey' in response:\n",
    "    response = table.scan(ExclusiveStartKey=response['LastEvaluatedKey'])\n",
    "    print(\"Items Returned: {}\".format(len(response['Items'])))\n",
    "    count+=len(response['Items'])\n",
    "\n",
    "print(count)"
   ]
  },
  {
   "cell_type": "markdown",
   "id": "8786353d-d9cb-4eee-8cb9-9144e55b8eea",
   "metadata": {},
   "source": [
    "borro la tabla"
   ]
  },
  {
   "cell_type": "code",
   "execution_count": null,
   "id": "62381e80-118e-494a-89f6-1d771053fcd5",
   "metadata": {},
   "outputs": [],
   "source": [
    "table.delete()\n",
    "\n",
    "print(f\"Deleting {table.name}...\")\n",
    "table.wait_until_not_exists()\n",
    "\n",
    "print('Table deleted.')\n"
   ]
  },
  {
   "cell_type": "markdown",
   "id": "879b0332-c307-4d71-8888-89a88ad940b3",
   "metadata": {},
   "source": [
    "si en algún momento falla"
   ]
  },
  {
   "cell_type": "code",
   "execution_count": null,
   "id": "61a2f06a-62ed-4db9-9133-d7c317888763",
   "metadata": {},
   "outputs": [],
   "source": [
    "dynamodb.meta.client.delete_table(TableName=\"Tweets\")\n",
    "\n",
    "print('Table deleted.')"
   ]
  }
 ],
 "metadata": {
  "kernelspec": {
   "display_name": "Python 3 (ipykernel)",
   "language": "python",
   "name": "python3"
  },
  "language_info": {
   "codemirror_mode": {
    "name": "ipython",
    "version": 3
   },
   "file_extension": ".py",
   "mimetype": "text/x-python",
   "name": "python",
   "nbconvert_exporter": "python",
   "pygments_lexer": "ipython3",
   "version": "3.10.6"
  }
 },
 "nbformat": 4,
 "nbformat_minor": 5
}
