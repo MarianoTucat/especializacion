{
 "cells": [
  {
   "cell_type": "markdown",
   "id": "7fe06694-2dc7-4a62-b270-025049bcd9d0",
   "metadata": {},
   "source": [
    "# DynamoDB Extras\n",
    "\n",
    "- [Streams](https://aws.amazon.com/blogs/database/dynamodb-streams-use-cases-and-design-patterns/)\n",
    "- [AWS Lambdas](https://docs.aws.amazon.com/apigateway/latest/developerguide/http-api-dynamo-db.html)\n",
    "- [Single table design](https://www.alexdebrie.com/posts/dynamodb-single-table/)\n",
    "- [Usuarios y Roles](https://docs.aws.amazon.com/amazondynamodb/latest/developerguide/authentication-and-access-control.html)\n",
    "- [Backup automático](https://aws.amazon.com/dynamodb/backup-restore/)\n",
    "- [DAX](https://docs.amazonaws.cn/en_us/amazondynamodb/latest/developerguide/DAX.html)\n"
   ]
  },
  {
   "cell_type": "markdown",
   "id": "f9946631-1a74-4ec9-9bb7-bd3967b89963",
   "metadata": {},
   "source": [
    "# Referencias\n",
    "\n",
    "- [Documentación oficial](https://docs.aws.amazon.com/amazondynamodb/latest/developerguide/Introduction.html)\n",
    "- [AWS SDK para Python](https://boto3.amazonaws.com/v1/documentation/api/latest/reference/services/dynamodb.html)\n",
    "- [Dynamo Guide](https://www.dynamodbguide.com/what-is-dynamo-db)"
   ]
  }
 ],
 "metadata": {
  "kernelspec": {
   "display_name": "Python 3 (ipykernel)",
   "language": "python",
   "name": "python3"
  },
  "language_info": {
   "codemirror_mode": {
    "name": "ipython",
    "version": 3
   },
   "file_extension": ".py",
   "mimetype": "text/x-python",
   "name": "python",
   "nbconvert_exporter": "python",
   "pygments_lexer": "ipython3",
   "version": "3.10.6"
  }
 },
 "nbformat": 4,
 "nbformat_minor": 5
}
