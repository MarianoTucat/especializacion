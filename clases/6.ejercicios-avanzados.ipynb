{
 "cells": [
  {
   "cell_type": "markdown",
   "id": "85be884e-80a8-4bdc-afac-805d2cee9692",
   "metadata": {},
   "source": [
    "# Ejercicios Avanzados\n",
    "\n",
    "Elegir algun set de datos de [Datos Bahia](https://datos.bahia.gob.ar/dataset?q=json&sort=metadata_modified+desc), por ejemplo:\n",
    "\n",
    "- [Sueldos](https://datos.bahia.gob.ar/dataset/sueldos-del-personal-municipal) -> [Ejemplo -> Enero 2022](https://gobiernoabierto.bahia.gob.ar/WS/4017/2022/1)\n",
    "- [Presupuesto](https://datos.bahia.gob.ar/dataset/presupuesto-montos-presupuestados-y-devengados) -> [Ejemplo -> 2021](https://gobiernoabierto.bahia.gob.ar/WS/5016/2021)\n",
    "- [Resoluciones del Municipio y HCD](https://datos.bahia.gob.ar/dataset/resoluciones) -> [Ejemplo -> Mayo 2021](https://gobiernoabierto.bahia.gob.ar/WS/4030/2021/5)\n",
    "- [Acceso a la información pública](https://datos.bahia.gob.ar/dataset/acceso-a-la-informacion-publica) -> [descargar](https://gobiernoabierto.bahia.gob.ar/WS/4024)\n",
    "\n",
    "## Ejercicios\n",
    "\n",
    "- Crear una tabla con 1 GSI (Global Secondary Index)\n",
    "- Cargar todos los elementos\n",
    "- Hacer 2 consultas utilizando por cada índice (el principal + el GSI)"
   ]
  }
 ],
 "metadata": {
  "kernelspec": {
   "display_name": "Python 3 (ipykernel)",
   "language": "python",
   "name": "python3"
  },
  "language_info": {
   "codemirror_mode": {
    "name": "ipython",
    "version": 3
   },
   "file_extension": ".py",
   "mimetype": "text/x-python",
   "name": "python",
   "nbconvert_exporter": "python",
   "pygments_lexer": "ipython3",
   "version": "3.10.6"
  }
 },
 "nbformat": 4,
 "nbformat_minor": 5
}
